{
 "cells": [
  {
   "cell_type": "code",
   "execution_count": 4,
   "metadata": {},
   "outputs": [],
   "source": [
    "import glob\n",
    "import pandas as pd"
   ]
  },
  {
   "cell_type": "markdown",
   "metadata": {},
   "source": [
    "## 收集数据"
   ]
  },
  {
   "cell_type": "code",
   "execution_count": 67,
   "metadata": {},
   "outputs": [],
   "source": [
    "df = pd.DataFrame()\n",
    "\n",
    "for csv_file in glob.glob('data/*.csv'):\n",
    "    df_monitor = pd.read_csv(csv_file, index_col = 'Unnamed: 0')\n",
    "    df_monitor['monitor'] = csv_file[-8:-4]\n",
    "    df = df.append(df_monitor, ignore_index = True)"
   ]
  },
  {
   "cell_type": "markdown",
   "metadata": {},
   "source": [
    "**站点与编号的对应关系**\n",
    "\n",
    "涿州1：61694036420907，农村  \n",
    "涿州2：61694036386371  \n",
    "涿州3：61694036386884  \n",
    "涿州4：61694036384467  \n",
    "涿州5：61694036420840  \n",
    "涿州6：63586031976115，城边  \n",
    "定兴7：61694036386405  "
   ]
  },
  {
   "cell_type": "code",
   "execution_count": 68,
   "metadata": {},
   "outputs": [],
   "source": [
    "df.monitor.replace(['0907','6371','6884','4467','0840','6115','6405'], ['M1','M2','M3','M4','M5','M6','D7'], inplace = True)"
   ]
  },
  {
   "cell_type": "markdown",
   "metadata": {},
   "source": [
    "**导出数据**"
   ]
  },
  {
   "cell_type": "code",
   "execution_count": 69,
   "metadata": {},
   "outputs": [],
   "source": [
    "df.to_csv('merge.csv', index=False)"
   ]
  },
  {
   "cell_type": "markdown",
   "metadata": {},
   "source": [
    "## TEST"
   ]
  },
  {
   "cell_type": "code",
   "execution_count": 42,
   "metadata": {},
   "outputs": [],
   "source": [
    "pf = pd.DataFrame({'A': [0, 1, 2, 3, 4, 1, 3, 2, 2, 8],\n",
    "                   'B': [5, 6, 7, 8, 9, 5, 6, 7, 8, 9],\n",
    "                   'C': ['a', 'b', 'c', 'd', 'e', 'e', 'b', 'd', 'd', 'e']})\n",
    "\n",
    "pf['C'].replace(['a', 'b'], ['ad', 'bu'],inplace =True)"
   ]
  },
  {
   "cell_type": "code",
   "execution_count": 53,
   "metadata": {},
   "outputs": [],
   "source": [
    "pf = pd.read_csv('merge.csv')"
   ]
  },
  {
   "cell_type": "code",
   "execution_count": 61,
   "metadata": {
    "scrolled": true
   },
   "outputs": [
    {
     "data": {
      "text/html": [
       "<div>\n",
       "<style scoped>\n",
       "    .dataframe tbody tr th:only-of-type {\n",
       "        vertical-align: middle;\n",
       "    }\n",
       "\n",
       "    .dataframe tbody tr th {\n",
       "        vertical-align: top;\n",
       "    }\n",
       "\n",
       "    .dataframe thead th {\n",
       "        text-align: right;\n",
       "    }\n",
       "</style>\n",
       "<table border=\"1\" class=\"dataframe\">\n",
       "  <thead>\n",
       "    <tr style=\"text-align: right;\">\n",
       "      <th></th>\n",
       "      <th>time</th>\n",
       "      <th>Temperature</th>\n",
       "      <th>Humidity</th>\n",
       "      <th>Light</th>\n",
       "      <th>Noise</th>\n",
       "      <th>Pressure</th>\n",
       "      <th>PM2p5</th>\n",
       "      <th>PM10</th>\n",
       "      <th>WindSpeed</th>\n",
       "      <th>WindDirection</th>\n",
       "      <th>CO2</th>\n",
       "      <th>CO</th>\n",
       "      <th>VOC</th>\n",
       "      <th>SO2</th>\n",
       "      <th>NO2</th>\n",
       "      <th>O3</th>\n",
       "      <th>UV</th>\n",
       "      <th>monitor</th>\n",
       "    </tr>\n",
       "  </thead>\n",
       "  <tbody>\n",
       "    <tr>\n",
       "      <th>0</th>\n",
       "      <td>2018/4/15 0:01</td>\n",
       "      <td>13.5</td>\n",
       "      <td>29</td>\n",
       "      <td>0</td>\n",
       "      <td>52.13</td>\n",
       "      <td>1016</td>\n",
       "      <td>12</td>\n",
       "      <td>20</td>\n",
       "      <td>0.0</td>\n",
       "      <td>123</td>\n",
       "      <td>1593.04</td>\n",
       "      <td>0.0</td>\n",
       "      <td>1</td>\n",
       "      <td>0.00</td>\n",
       "      <td>774.20</td>\n",
       "      <td>21.43</td>\n",
       "      <td>3</td>\n",
       "      <td>6115</td>\n",
       "    </tr>\n",
       "    <tr>\n",
       "      <th>1</th>\n",
       "      <td>2018/4/15 0:02</td>\n",
       "      <td>13.4</td>\n",
       "      <td>28</td>\n",
       "      <td>0</td>\n",
       "      <td>52.07</td>\n",
       "      <td>1016</td>\n",
       "      <td>10</td>\n",
       "      <td>16</td>\n",
       "      <td>0.1</td>\n",
       "      <td>58</td>\n",
       "      <td>1596.96</td>\n",
       "      <td>0.0</td>\n",
       "      <td>1</td>\n",
       "      <td>128.57</td>\n",
       "      <td>679.73</td>\n",
       "      <td>21.43</td>\n",
       "      <td>3</td>\n",
       "      <td>6115</td>\n",
       "    </tr>\n",
       "    <tr>\n",
       "      <th>2</th>\n",
       "      <td>2018/4/15 0:03</td>\n",
       "      <td>13.4</td>\n",
       "      <td>26</td>\n",
       "      <td>0</td>\n",
       "      <td>51.98</td>\n",
       "      <td>1016</td>\n",
       "      <td>22</td>\n",
       "      <td>22</td>\n",
       "      <td>0.0</td>\n",
       "      <td>355</td>\n",
       "      <td>1650.00</td>\n",
       "      <td>0.0</td>\n",
       "      <td>1</td>\n",
       "      <td>88.57</td>\n",
       "      <td>735.18</td>\n",
       "      <td>21.43</td>\n",
       "      <td>3</td>\n",
       "      <td>6115</td>\n",
       "    </tr>\n",
       "    <tr>\n",
       "      <th>3</th>\n",
       "      <td>2018/4/15 0:04</td>\n",
       "      <td>13.4</td>\n",
       "      <td>26</td>\n",
       "      <td>0</td>\n",
       "      <td>52.05</td>\n",
       "      <td>1016</td>\n",
       "      <td>4</td>\n",
       "      <td>4</td>\n",
       "      <td>0.2</td>\n",
       "      <td>341</td>\n",
       "      <td>1610.71</td>\n",
       "      <td>0.0</td>\n",
       "      <td>1</td>\n",
       "      <td>94.29</td>\n",
       "      <td>798.84</td>\n",
       "      <td>21.43</td>\n",
       "      <td>3</td>\n",
       "      <td>6115</td>\n",
       "    </tr>\n",
       "    <tr>\n",
       "      <th>4</th>\n",
       "      <td>2018/4/15 0:05</td>\n",
       "      <td>13.4</td>\n",
       "      <td>26</td>\n",
       "      <td>0</td>\n",
       "      <td>51.99</td>\n",
       "      <td>1016</td>\n",
       "      <td>6</td>\n",
       "      <td>6</td>\n",
       "      <td>0.1</td>\n",
       "      <td>342</td>\n",
       "      <td>1628.39</td>\n",
       "      <td>0.0</td>\n",
       "      <td>1</td>\n",
       "      <td>0.00</td>\n",
       "      <td>743.39</td>\n",
       "      <td>21.43</td>\n",
       "      <td>3</td>\n",
       "      <td>6115</td>\n",
       "    </tr>\n",
       "  </tbody>\n",
       "</table>\n",
       "</div>"
      ],
      "text/plain": [
       "             time  Temperature  Humidity  Light  Noise  Pressure  PM2p5  PM10  \\\n",
       "0  2018/4/15 0:01         13.5        29      0  52.13      1016     12    20   \n",
       "1  2018/4/15 0:02         13.4        28      0  52.07      1016     10    16   \n",
       "2  2018/4/15 0:03         13.4        26      0  51.98      1016     22    22   \n",
       "3  2018/4/15 0:04         13.4        26      0  52.05      1016      4     4   \n",
       "4  2018/4/15 0:05         13.4        26      0  51.99      1016      6     6   \n",
       "\n",
       "   WindSpeed  WindDirection      CO2   CO  VOC     SO2     NO2     O3  UV  \\\n",
       "0        0.0            123  1593.04  0.0    1    0.00  774.20  21.43   3   \n",
       "1        0.1             58  1596.96  0.0    1  128.57  679.73  21.43   3   \n",
       "2        0.0            355  1650.00  0.0    1   88.57  735.18  21.43   3   \n",
       "3        0.2            341  1610.71  0.0    1   94.29  798.84  21.43   3   \n",
       "4        0.1            342  1628.39  0.0    1    0.00  743.39  21.43   3   \n",
       "\n",
       "  monitor  \n",
       "0    6115  \n",
       "1    6115  \n",
       "2    6115  \n",
       "3    6115  \n",
       "4    6115  "
      ]
     },
     "execution_count": 61,
     "metadata": {},
     "output_type": "execute_result"
    }
   ],
   "source": [
    "df.head()"
   ]
  },
  {
   "cell_type": "code",
   "execution_count": 32,
   "metadata": {
    "scrolled": true
   },
   "outputs": [
    {
     "name": "stdout",
     "output_type": "stream",
     "text": [
      "<class 'pandas.core.frame.DataFrame'>\n",
      "RangeIndex: 661176 entries, 0 to 661175\n",
      "Data columns (total 18 columns):\n",
      "time             661176 non-null object\n",
      "Temperature      661176 non-null float64\n",
      "Humidity         661176 non-null int64\n",
      "Light            661176 non-null int64\n",
      "Noise            661176 non-null float64\n",
      "Pressure         661176 non-null int64\n",
      "PM2p5            661176 non-null int64\n",
      "PM10             661176 non-null int64\n",
      "WindSpeed        661176 non-null float64\n",
      "WindDirection    661176 non-null int64\n",
      "CO2              661176 non-null float64\n",
      "CO               661176 non-null float64\n",
      "VOC              661176 non-null int64\n",
      "SO2              661176 non-null float64\n",
      "NO2              661176 non-null float64\n",
      "O3               661176 non-null float64\n",
      "UV               661176 non-null int64\n",
      "monitor          661176 non-null object\n",
      "dtypes: float64(8), int64(8), object(2)\n",
      "memory usage: 90.8+ MB\n"
     ]
    }
   ],
   "source": [
    "df.info()"
   ]
  }
 ],
 "metadata": {
  "kernelspec": {
   "display_name": "Python 3",
   "language": "python",
   "name": "python3"
  },
  "language_info": {
   "codemirror_mode": {
    "name": "ipython",
    "version": 3
   },
   "file_extension": ".py",
   "mimetype": "text/x-python",
   "name": "python",
   "nbconvert_exporter": "python",
   "pygments_lexer": "ipython3",
   "version": "3.6.5"
  },
  "toc": {
   "base_numbering": 1,
   "nav_menu": {},
   "number_sections": false,
   "sideBar": true,
   "skip_h1_title": false,
   "title_cell": "Table of Contents",
   "title_sidebar": "Contents",
   "toc_cell": false,
   "toc_position": {},
   "toc_section_display": true,
   "toc_window_display": false
  }
 },
 "nbformat": 4,
 "nbformat_minor": 2
}
